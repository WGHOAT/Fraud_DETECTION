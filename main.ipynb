{
 "cells": [
  {
   "cell_type": "code",
   "execution_count": 22,
   "id": "800e6d52",
   "metadata": {},
   "outputs": [
    {
     "name": "stdout",
     "output_type": "stream",
     "text": [
      "   TRANSACTION_ID         TX_DATETIME CUSTOMER_ID TERMINAL_ID  TX_AMOUNT  \\\n",
      "0               0 2018-04-01 00:00:31         596        3156      57.16   \n",
      "1               1 2018-04-01 00:02:10        4961        3412      81.51   \n",
      "2               2 2018-04-01 00:07:56           2        1365     146.00   \n",
      "3               3 2018-04-01 00:09:29        4128        8737      64.49   \n",
      "4               4 2018-04-01 00:10:34         927        9906      50.99   \n",
      "\n",
      "  TX_TIME_SECONDS TX_TIME_DAYS  TX_FRAUD  TX_FRAUD_SCENARIO  \n",
      "0              31            0         0                  0  \n",
      "1             130            0         0                  0  \n",
      "2             476            0         0                  0  \n",
      "3             569            0         0                  0  \n",
      "4             634            0         0                  0  \n"
     ]
    },
    {
     "data": {
      "text/plain": [
       "TRANSACTION_ID       1754155\n",
       "TX_DATETIME          1754155\n",
       "CUSTOMER_ID          1754155\n",
       "TERMINAL_ID          1754155\n",
       "TX_AMOUNT            1754155\n",
       "TX_TIME_SECONDS      1754155\n",
       "TX_TIME_DAYS         1754155\n",
       "TX_FRAUD             1754155\n",
       "TX_FRAUD_SCENARIO    1754155\n",
       "dtype: int64"
      ]
     },
     "execution_count": 22,
     "metadata": {},
     "output_type": "execute_result"
    }
   ],
   "source": [
    "import pandas as pd\n",
    "import os\n",
    "\n",
    "folderpath = \"/home/ajay/Documents/sleeping_dog_don/FRAUD-DETECTION/dataset/data\"\n",
    "pkl_files = [f for f in os.listdir(folderpath) if f.endswith(\".pkl\")]\n",
    "ds = pd.concat([pd.read_pickle(os.path.join(folderpath,files))for files in pkl_files],ignore_index=True)\n",
    "print(ds.head())\n",
    "ds.count()"
   ]
  },
  {
   "cell_type": "code",
   "execution_count": null,
   "id": "7499e542",
   "metadata": {},
   "outputs": [],
   "source": []
  }
 ],
 "metadata": {
  "kernelspec": {
   "display_name": "baldcat312",
   "language": "python",
   "name": "python3"
  },
  "language_info": {
   "codemirror_mode": {
    "name": "ipython",
    "version": 3
   },
   "file_extension": ".py",
   "mimetype": "text/x-python",
   "name": "python",
   "nbconvert_exporter": "python",
   "pygments_lexer": "ipython3",
   "version": "3.12.3"
  }
 },
 "nbformat": 4,
 "nbformat_minor": 5
}
